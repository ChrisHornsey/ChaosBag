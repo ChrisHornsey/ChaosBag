{
 "cells": [
  {
   "cell_type": "code",
   "execution_count": 6,
   "metadata": {},
   "outputs": [
    {
     "ename": "AttributeError",
     "evalue": "module 'Bag' has no attribute 'ChaosBag'",
     "output_type": "error",
     "traceback": [
      "\u001b[1;31m---------------------------------------------------------------------------\u001b[0m",
      "\u001b[1;31mAttributeError\u001b[0m                            Traceback (most recent call last)",
      "\u001b[1;32mc:\\Projects\\ChaosBag\\ChaosBag\\Chaosbag.ipynb Cell 1\u001b[0m line \u001b[0;36m3\n\u001b[0;32m      <a href='vscode-notebook-cell:/c%3A/Projects/ChaosBag/ChaosBag/Chaosbag.ipynb#W0sZmlsZQ%3D%3D?line=0'>1</a>\u001b[0m \u001b[39mimport\u001b[39;00m \u001b[39mBag\u001b[39;00m\n\u001b[1;32m----> <a href='vscode-notebook-cell:/c%3A/Projects/ChaosBag/ChaosBag/Chaosbag.ipynb#W0sZmlsZQ%3D%3D?line=2'>3</a>\u001b[0m myChaosBag \u001b[39m=\u001b[39m Bag\u001b[39m.\u001b[39;49mChaosBag([\u001b[39m\"\u001b[39m\u001b[39m+1\u001b[39m\u001b[39m\"\u001b[39m, \u001b[39m\"\u001b[39m\u001b[39m0\u001b[39m\u001b[39m\"\u001b[39m, \u001b[39m\"\u001b[39m\u001b[39m-1\u001b[39m\u001b[39m\"\u001b[39m])\n\u001b[0;32m      <a href='vscode-notebook-cell:/c%3A/Projects/ChaosBag/ChaosBag/Chaosbag.ipynb#W0sZmlsZQ%3D%3D?line=4'>5</a>\u001b[0m \u001b[39mprint\u001b[39m(myChaosBag\u001b[39m.\u001b[39mdrawToken())\n",
      "\u001b[1;31mAttributeError\u001b[0m: module 'Bag' has no attribute 'ChaosBag'"
     ]
    }
   ],
   "source": [
    "import Bag\n",
    "\n",
    "myChaosBag = Bag.ChaosBag([\"+1\", \"0\", \"-1\"])\n",
    "\n",
    "print(myChaosBag.drawToken())"
   ]
  }
 ],
 "metadata": {
  "kernelspec": {
   "display_name": "Python 3",
   "language": "python",
   "name": "python3"
  },
  "language_info": {
   "codemirror_mode": {
    "name": "ipython",
    "version": 3
   },
   "file_extension": ".py",
   "mimetype": "text/x-python",
   "name": "python",
   "nbconvert_exporter": "python",
   "pygments_lexer": "ipython3",
   "version": "3.9.13"
  }
 },
 "nbformat": 4,
 "nbformat_minor": 2
}
