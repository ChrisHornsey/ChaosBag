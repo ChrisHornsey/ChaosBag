{
 "cells": [
  {
   "cell_type": "code",
   "execution_count": 1,
   "metadata": {},
   "outputs": [
    {
     "name": "stdout",
     "output_type": "stream",
     "text": [
      "Attempted a skill test with dificulty 4, had a resulting skill value of 4, and therefore the test succeeded\n"
     ]
    }
   ],
   "source": [
    "import Bag\n",
    "import Token\n",
    "import SkillTest\n",
    "\n",
    "myTokens = []\n",
    "\n",
    "myTokens.append(Token.ChaosToken(+1))\n",
    "myTokens.append(Token.ChaosToken(0))\n",
    "myTokens.append(Token.ChaosToken(0))\n",
    "myTokens.append(Token.ChaosToken(-1))\n",
    "myTokens.append(Token.ChaosToken(-1))\n",
    "myTokens.append(Token.ChaosToken(-1))\n",
    "myTokens.append(Token.ChaosToken(-2))\n",
    "myTokens.append(Token.ChaosToken(-2))\n",
    "myTokens.append(Token.ChaosToken(-3))\n",
    "myTokens.append(Token.ChaosToken(-4))\n",
    "myTokens.append(Token.ChaosToken(-1, \"Skull\"))\n",
    "myTokens.append(Token.ChaosToken(-1, \"Skull\"))\n",
    "myTokens.append(Token.ChaosToken(-1, \"Cultist\"))\n",
    "myTokens.append(Token.ChaosToken(-2, \"Tombstone\"))\n",
    "myTokens.append(Token.ChaosToken(-99, \"Autofail\"))\n",
    "myTokens.append(Token.ChaosToken(+1, \"Edler Sign\"))\n",
    "\n",
    "myChaosBag = Bag.ChaosBag(myTokens)\n",
    "\n",
    "mySkillTest = SkillTest.SkillTest(4,6,myChaosBag)\n",
    "\n",
    "print(f\"Attempted a skill test with dificulty {mySkillTest.result.dificulty}, had a resulting skill value of {mySkillTest.result.result}, and therefore the test {mySkillTest.result.outcome}\")"
   ]
  },
  {
   "cell_type": "code",
   "execution_count": 29,
   "metadata": {},
   "outputs": [
    {
     "name": "stdout",
     "output_type": "stream",
     "text": [
      "Test had a success rate of 81.2335%\n"
     ]
    }
   ],
   "source": [
    "import Tools\n",
    "\n",
    "MCCount = 1000000\n",
    "\n",
    "SuccessPercent = Tools.MonteCarloTester(MCCount, mySkillTest)/MCCount*100\n",
    "\n",
    "print(f\"Test had a success rate of {SuccessPercent}%\")"
   ]
  }
 ],
 "metadata": {
  "kernelspec": {
   "display_name": "Python 3",
   "language": "python",
   "name": "python3"
  },
  "language_info": {
   "codemirror_mode": {
    "name": "ipython",
    "version": 3
   },
   "file_extension": ".py",
   "mimetype": "text/x-python",
   "name": "python",
   "nbconvert_exporter": "python",
   "pygments_lexer": "ipython3",
   "version": "3.9.13"
  }
 },
 "nbformat": 4,
 "nbformat_minor": 2
}
