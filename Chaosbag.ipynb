{
 "cells": [
  {
   "cell_type": "code",
   "execution_count": 5,
   "metadata": {},
   "outputs": [
    {
     "name": "stdout",
     "output_type": "stream",
     "text": [
      "-2\n"
     ]
    }
   ],
   "source": [
    "import Bag\n",
    "import Token\n",
    "\n",
    "myTokens = []\n",
    "\n",
    "myTokens.append(Token.ChaosToken(+1))\n",
    "myTokens.append(Token.ChaosToken(0))\n",
    "myTokens.append(Token.ChaosToken(0))\n",
    "myTokens.append(Token.ChaosToken(-1))\n",
    "myTokens.append(Token.ChaosToken(-1))\n",
    "myTokens.append(Token.ChaosToken(-1))\n",
    "myTokens.append(Token.ChaosToken(-2))\n",
    "myTokens.append(Token.ChaosToken(-2))\n",
    "myTokens.append(Token.ChaosToken(-3))\n",
    "myTokens.append(Token.ChaosToken(-4))\n",
    "myTokens.append(Token.ChaosToken(-1, \"Skull\"))\n",
    "myTokens.append(Token.ChaosToken(-1, \"Skull\"))\n",
    "myTokens.append(Token.ChaosToken(-1, \"Cultist\"))\n",
    "myTokens.append(Token.ChaosToken(-2, \"Tombstone\"))\n",
    "myTokens.append(Token.ChaosToken(-99, \"Autofail\"))\n",
    "myTokens.append(Token.ChaosToken(+1, \"Edler Sign\"))\n",
    "\n",
    "myChaosBag = Bag.ChaosBag(myTokens)\n",
    "\n",
    "drawnToken = myChaosBag.drawToken()\n",
    "\n",
    "print(drawnToken.name)"
   ]
  }
 ],
 "metadata": {
  "kernelspec": {
   "display_name": "Python 3",
   "language": "python",
   "name": "python3"
  },
  "language_info": {
   "codemirror_mode": {
    "name": "ipython",
    "version": 3
   },
   "file_extension": ".py",
   "mimetype": "text/x-python",
   "name": "python",
   "nbconvert_exporter": "python",
   "pygments_lexer": "ipython3",
   "version": "3.9.13"
  }
 },
 "nbformat": 4,
 "nbformat_minor": 2
}
